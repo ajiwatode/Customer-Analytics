{
 "cells": [
  {
   "cell_type": "markdown",
   "id": "49124d1d-9ea9-4474-b485-feb443420e8c",
   "metadata": {},
   "source": [
    "# Logistic Regression,Xgboost,Random Forest ,SVM"
   ]
  },
  {
   "cell_type": "code",
   "execution_count": 1,
   "id": "ee69591f-fe63-4746-8fe5-6ec198ec726a",
   "metadata": {},
   "outputs": [],
   "source": [
    "import numpy as np\n",
    "import pandas as pd\n",
    "import matplotlib.pyplot as plt\n",
    "import seaborn as sns\n",
    "%matplotlib inline"
   ]
  },
  {
   "cell_type": "code",
   "execution_count": 2,
   "id": "6eb1bd62-e108-4421-b87e-1bb22379d048",
   "metadata": {},
   "outputs": [
    {
     "data": {
      "text/html": [
       "<div>\n",
       "<style scoped>\n",
       "    .dataframe tbody tr th:only-of-type {\n",
       "        vertical-align: middle;\n",
       "    }\n",
       "\n",
       "    .dataframe tbody tr th {\n",
       "        vertical-align: top;\n",
       "    }\n",
       "\n",
       "    .dataframe thead th {\n",
       "        text-align: right;\n",
       "    }\n",
       "</style>\n",
       "<table border=\"1\" class=\"dataframe\">\n",
       "  <thead>\n",
       "    <tr style=\"text-align: right;\">\n",
       "      <th></th>\n",
       "      <th>ID</th>\n",
       "      <th>Warehouse_block</th>\n",
       "      <th>Mode_of_Shipment</th>\n",
       "      <th>Customer_care_calls</th>\n",
       "      <th>Customer_rating</th>\n",
       "      <th>Cost_of_the_Product</th>\n",
       "      <th>Prior_purchases</th>\n",
       "      <th>Product_importance</th>\n",
       "      <th>Gender</th>\n",
       "      <th>Discount_offered</th>\n",
       "      <th>Weight_in_gms</th>\n",
       "      <th>Reached.on.Time_Y.N</th>\n",
       "    </tr>\n",
       "  </thead>\n",
       "  <tbody>\n",
       "    <tr>\n",
       "      <th>0</th>\n",
       "      <td>1</td>\n",
       "      <td>D</td>\n",
       "      <td>Flight</td>\n",
       "      <td>4</td>\n",
       "      <td>2</td>\n",
       "      <td>177</td>\n",
       "      <td>3</td>\n",
       "      <td>low</td>\n",
       "      <td>F</td>\n",
       "      <td>44</td>\n",
       "      <td>1233</td>\n",
       "      <td>1</td>\n",
       "    </tr>\n",
       "    <tr>\n",
       "      <th>1</th>\n",
       "      <td>2</td>\n",
       "      <td>F</td>\n",
       "      <td>Flight</td>\n",
       "      <td>4</td>\n",
       "      <td>5</td>\n",
       "      <td>216</td>\n",
       "      <td>2</td>\n",
       "      <td>low</td>\n",
       "      <td>M</td>\n",
       "      <td>59</td>\n",
       "      <td>3088</td>\n",
       "      <td>1</td>\n",
       "    </tr>\n",
       "    <tr>\n",
       "      <th>2</th>\n",
       "      <td>3</td>\n",
       "      <td>A</td>\n",
       "      <td>Flight</td>\n",
       "      <td>2</td>\n",
       "      <td>2</td>\n",
       "      <td>183</td>\n",
       "      <td>4</td>\n",
       "      <td>low</td>\n",
       "      <td>M</td>\n",
       "      <td>48</td>\n",
       "      <td>3374</td>\n",
       "      <td>1</td>\n",
       "    </tr>\n",
       "    <tr>\n",
       "      <th>3</th>\n",
       "      <td>4</td>\n",
       "      <td>B</td>\n",
       "      <td>Flight</td>\n",
       "      <td>3</td>\n",
       "      <td>3</td>\n",
       "      <td>176</td>\n",
       "      <td>4</td>\n",
       "      <td>medium</td>\n",
       "      <td>M</td>\n",
       "      <td>10</td>\n",
       "      <td>1177</td>\n",
       "      <td>1</td>\n",
       "    </tr>\n",
       "    <tr>\n",
       "      <th>4</th>\n",
       "      <td>5</td>\n",
       "      <td>C</td>\n",
       "      <td>Flight</td>\n",
       "      <td>2</td>\n",
       "      <td>2</td>\n",
       "      <td>184</td>\n",
       "      <td>3</td>\n",
       "      <td>medium</td>\n",
       "      <td>F</td>\n",
       "      <td>46</td>\n",
       "      <td>2484</td>\n",
       "      <td>1</td>\n",
       "    </tr>\n",
       "  </tbody>\n",
       "</table>\n",
       "</div>"
      ],
      "text/plain": [
       "   ID Warehouse_block Mode_of_Shipment  Customer_care_calls  Customer_rating  \\\n",
       "0   1               D           Flight                    4                2   \n",
       "1   2               F           Flight                    4                5   \n",
       "2   3               A           Flight                    2                2   \n",
       "3   4               B           Flight                    3                3   \n",
       "4   5               C           Flight                    2                2   \n",
       "\n",
       "   Cost_of_the_Product  Prior_purchases Product_importance Gender  \\\n",
       "0                  177                3                low      F   \n",
       "1                  216                2                low      M   \n",
       "2                  183                4                low      M   \n",
       "3                  176                4             medium      M   \n",
       "4                  184                3             medium      F   \n",
       "\n",
       "   Discount_offered  Weight_in_gms  Reached.on.Time_Y.N  \n",
       "0                44           1233                    1  \n",
       "1                59           3088                    1  \n",
       "2                48           3374                    1  \n",
       "3                10           1177                    1  \n",
       "4                46           2484                    1  "
      ]
     },
     "execution_count": 2,
     "metadata": {},
     "output_type": "execute_result"
    }
   ],
   "source": [
    "train=pd.read_csv(r\"C:\\Users\\AK\\Desktop\\file\\train data.csv\")\n",
    "train.head()"
   ]
  },
  {
   "cell_type": "code",
   "execution_count": 3,
   "id": "b8ffe412-e386-4671-84e1-e48956d56533",
   "metadata": {},
   "outputs": [],
   "source": [
    "train.loc[train['Mode_of_Shipment'] == 'Flight', 'Mode_of_Shipment'] = 1\n",
    "train.loc[train['Mode_of_Shipment'] == 'Ship', 'Mode_of_Shipment'] = 2\n",
    "train.loc[train['Mode_of_Shipment'] == 'Road', 'Mode_of_Shipment'] = 3\n"
   ]
  },
  {
   "cell_type": "code",
   "execution_count": 4,
   "id": "768173a2-f006-4efd-85ee-c3b37d762efb",
   "metadata": {},
   "outputs": [],
   "source": [
    "train.loc[train['Product_importance'] == 'high', 'Product_importance'] = 1\n",
    "train.loc[train['Product_importance'] == 'low', 'Product_importance'] = 2\n",
    "train.loc[train['Product_importance'] == 'medium', 'Product_importance'] = 3\n"
   ]
  },
  {
   "cell_type": "code",
   "execution_count": 5,
   "id": "db62503e-5d5f-46ce-a446-4fc671431536",
   "metadata": {},
   "outputs": [],
   "source": [
    "train['Gender'] = train['Gender'].replace({'F': 1, 'M': 2})"
   ]
  },
  {
   "cell_type": "code",
   "execution_count": 10,
   "id": "9413d2a3-e271-41ab-83a9-0c41e955025a",
   "metadata": {},
   "outputs": [
    {
     "name": "stdout",
     "output_type": "stream",
     "text": [
      "          ID  Warehouse_block  Mode_of_Shipment  Customer_care_calls  \\\n",
      "0          1                4                 1                    4   \n",
      "1          2                5                 1                    4   \n",
      "2          3                1                 1                    2   \n",
      "3          4                2                 1                    3   \n",
      "4          5                3                 1                    2   \n",
      "...      ...              ...               ...                  ...   \n",
      "10994  10995                1                 2                    4   \n",
      "10995  10996                2                 2                    4   \n",
      "10996  10997                3                 2                    5   \n",
      "10997  10998                5                 2                    5   \n",
      "10998  10999                4                 2                    2   \n",
      "\n",
      "       Customer_rating  Cost_of_the_Product  Prior_purchases  \\\n",
      "0                    2                  177                3   \n",
      "1                    5                  216                2   \n",
      "2                    2                  183                4   \n",
      "3                    3                  176                4   \n",
      "4                    2                  184                3   \n",
      "...                ...                  ...              ...   \n",
      "10994                1                  252                5   \n",
      "10995                1                  232                5   \n",
      "10996                4                  242                5   \n",
      "10997                2                  223                6   \n",
      "10998                5                  155                5   \n",
      "\n",
      "       Product_importance  Gender  Discount_offered  Weight_in_gms  \\\n",
      "0                       2       1                44           1233   \n",
      "1                       2       2                59           3088   \n",
      "2                       2       2                48           3374   \n",
      "3                       3       2                10           1177   \n",
      "4                       3       1                46           2484   \n",
      "...                   ...     ...               ...            ...   \n",
      "10994                   3       1                 1           1538   \n",
      "10995                   3       1                 6           1247   \n",
      "10996                   2       1                 4           1155   \n",
      "10997                   3       2                 2           1210   \n",
      "10998                   2       1                 6           1639   \n",
      "\n",
      "       Reached.on.Time_Y.N  \n",
      "0                        1  \n",
      "1                        1  \n",
      "2                        1  \n",
      "3                        1  \n",
      "4                        1  \n",
      "...                    ...  \n",
      "10994                    1  \n",
      "10995                    0  \n",
      "10996                    0  \n",
      "10997                    0  \n",
      "10998                    0  \n",
      "\n",
      "[10999 rows x 12 columns]\n"
     ]
    }
   ],
   "source": [
    "train.loc[train['Warehouse_block'] == 'A', 'Warehouse_block'] = 1\n",
    "train.loc[train['Warehouse_block'] == 'B', 'Warehouse_block'] = 2\n",
    "train.loc[train['Warehouse_block'] == 'C', 'Warehouse_block'] = 3\n",
    "train.loc[train['Warehouse_block'] == 'D', 'Warehouse_block'] = 4\n",
    "train.loc[train['Warehouse_block'] == 'F', 'Warehouse_block'] = 5\n",
    "print(train)"
   ]
  },
  {
   "cell_type": "code",
   "execution_count": null,
   "id": "b08344e1-5b0a-4d71-b302-13da82fc62a0",
   "metadata": {},
   "outputs": [],
   "source": []
  },
  {
   "cell_type": "code",
   "execution_count": 11,
   "id": "27e162fb-a103-4235-925a-a3bc982f98fb",
   "metadata": {},
   "outputs": [],
   "source": [
    "train[\"Mode_of_Shipment\"]= train[\"Mode_of_Shipment\"].astype(int) \n",
    "train[\"Product_importance\"]= train[\"Product_importance\"].astype(int) \n",
    "train[\"Gender\"]= train[\"Gender\"].astype(int) \n",
    "train[\"Warehouse_block\"]= train[\"Warehouse_block\"].astype(int) "
   ]
  },
  {
   "cell_type": "code",
   "execution_count": 12,
   "id": "bda7bc4c-df31-42b8-88c8-7a7fccc02073",
   "metadata": {},
   "outputs": [
    {
     "name": "stdout",
     "output_type": "stream",
     "text": [
      "<class 'pandas.core.frame.DataFrame'>\n",
      "RangeIndex: 10999 entries, 0 to 10998\n",
      "Data columns (total 12 columns):\n",
      " #   Column               Non-Null Count  Dtype\n",
      "---  ------               --------------  -----\n",
      " 0   ID                   10999 non-null  int64\n",
      " 1   Warehouse_block      10999 non-null  int32\n",
      " 2   Mode_of_Shipment     10999 non-null  int32\n",
      " 3   Customer_care_calls  10999 non-null  int64\n",
      " 4   Customer_rating      10999 non-null  int64\n",
      " 5   Cost_of_the_Product  10999 non-null  int64\n",
      " 6   Prior_purchases      10999 non-null  int64\n",
      " 7   Product_importance   10999 non-null  int32\n",
      " 8   Gender               10999 non-null  int32\n",
      " 9   Discount_offered     10999 non-null  int64\n",
      " 10  Weight_in_gms        10999 non-null  int64\n",
      " 11  Reached.on.Time_Y.N  10999 non-null  int64\n",
      "dtypes: int32(4), int64(8)\n",
      "memory usage: 859.4 KB\n"
     ]
    }
   ],
   "source": [
    "train.info()"
   ]
  },
  {
   "cell_type": "markdown",
   "id": "ba733837-c921-4c1d-bee3-896e43fe6fa9",
   "metadata": {},
   "source": [
    "# Data Normalization"
   ]
  },
  {
   "cell_type": "code",
   "execution_count": 24,
   "id": "93900fa5-990e-4d9a-9043-efd9b70109ed",
   "metadata": {},
   "outputs": [
    {
     "name": "stdout",
     "output_type": "stream",
     "text": [
      "Optimization terminated successfully.\n",
      "         Current function value: 0.531202\n",
      "         Iterations 8\n",
      "                           Results: Logit\n",
      "====================================================================\n",
      "Model:              Logit               Method:           MLE       \n",
      "Dependent Variable: Reached.on.Time_Y.N Pseudo R-squared: 0.212     \n",
      "Date:               2024-03-27 13:36    AIC:              11709.3788\n",
      "No. Observations:   10999               BIC:              11797.0455\n",
      "Df Model:           11                  Log-Likelihood:   -5842.7   \n",
      "Df Residuals:       10987               LL-Null:          -7417.0   \n",
      "Converged:          1.0000              LLR p-value:      0.0000    \n",
      "No. Iterations:     8.0000              Scale:            1.0000    \n",
      "--------------------------------------------------------------------\n",
      "                     Coef.  Std.Err.    z     P>|z|   [0.025  0.975]\n",
      "--------------------------------------------------------------------\n",
      "const                2.0280   0.2401   8.4483 0.0000  1.5575  2.4985\n",
      "ID                  -0.0002   0.0000 -17.9177 0.0000 -0.0002 -0.0001\n",
      "Warehouse_block      0.0068   0.0149   0.4580 0.6469 -0.0224  0.0360\n",
      "Mode_of_Shipment    -0.0214   0.0390  -0.5494 0.5827 -0.0979  0.0550\n",
      "Customer_care_calls -0.0683   0.0220  -3.1056 0.0019 -0.1114 -0.0252\n",
      "Customer_rating      0.0224   0.0157   1.4234 0.1546 -0.0084  0.0532\n",
      "Cost_of_the_Product -0.0010   0.0005  -1.9821 0.0475 -0.0020 -0.0000\n",
      "Prior_purchases     -0.0419   0.0154  -2.7162 0.0066 -0.0721 -0.0117\n",
      "Product_importance  -0.0704   0.0355  -1.9848 0.0472 -0.1400 -0.0009\n",
      "Gender               0.0409   0.0444   0.9212 0.3570 -0.0461  0.1279\n",
      "Discount_offered     0.0912   0.0047  19.4494 0.0000  0.0820  0.1004\n",
      "Weight_in_gms       -0.0002   0.0000 -12.4908 0.0000 -0.0002 -0.0002\n",
      "====================================================================\n",
      "\n"
     ]
    }
   ],
   "source": [
    "\n",
    " import statsmodels.api as sm\n",
    "\n",
    "# Assuming 'train' contains your DataFrame with predictors and target variable\n",
    "\n",
    "# Define predictors (X) and target variable (Y)\n",
    "X = train.drop('Reached.on.Time_Y.N', axis=1)\n",
    "Y = train['Reached.on.Time_Y.N']\n",
    "\n",
    "# Add constant to the predictor matrix (intercept term)\n",
    "X = sm.add_constant(X)\n",
    "\n",
    "# Fit the logistic regression model\n",
    "logit_model = sm.Logit(Y, X)\n",
    "result = logit_model.fit()\n",
    "\n",
    "# Print summary of the model\n",
    "print(result.summary2())\n"
   ]
  },
  {
   "cell_type": "code",
   "execution_count": 25,
   "id": "8275842f-c4f4-4d44-bd64-271b83ec8725",
   "metadata": {},
   "outputs": [],
   "source": [
    "from sklearn.model_selection import train_test_split\n",
    "\n",
    "# Split the data into training and testing sets\n",
    "# X_train: training features, X_test: testing features\n",
    "# y_train: training target variable, y_test: testing target variable\n",
    "X_train, X_test, y_train, y_test = train_test_split(X, Y, test_size=0.30)\n"
   ]
  },
  {
   "cell_type": "code",
   "execution_count": 26,
   "id": "63fa920d-c183-494e-98e9-b382e5dee5f7",
   "metadata": {},
   "outputs": [
    {
     "name": "stderr",
     "output_type": "stream",
     "text": [
      "D:\\Users\\AK\\anaconda3\\Lib\\site-packages\\sklearn\\linear_model\\_logistic.py:469: ConvergenceWarning: lbfgs failed to converge (status=1):\n",
      "STOP: TOTAL NO. of ITERATIONS REACHED LIMIT.\n",
      "\n",
      "Increase the number of iterations (max_iter) or scale the data as shown in:\n",
      "    https://scikit-learn.org/stable/modules/preprocessing.html\n",
      "Please also refer to the documentation for alternative solver options:\n",
      "    https://scikit-learn.org/stable/modules/linear_model.html#logistic-regression\n",
      "  n_iter_i = _check_optimize_result(\n"
     ]
    }
   ],
   "source": [
    "from sklearn.linear_model import LogisticRegression\n",
    "\n",
    "# Instantiate the logistic regression model\n",
    "model = LogisticRegression()\n",
    "\n",
    "# Fit the model to the training data\n",
    "model.fit(X_train, y_train)\n",
    "\n",
    "# Make predictions on the test data\n",
    "predictions = model.predict(X_test)\n"
   ]
  },
  {
   "cell_type": "code",
   "execution_count": 27,
   "id": "e8d2026d-f3cb-4c1a-a6ff-cd55a4530bea",
   "metadata": {},
   "outputs": [
    {
     "name": "stdout",
     "output_type": "stream",
     "text": [
      "Accuracy: 0.6551515151515152\n"
     ]
    }
   ],
   "source": [
    "from sklearn.metrics import accuracy_score\n",
    "\n",
    "# Calculate the accuracy of the model\n",
    "accuracy = accuracy_score(y_test, predictions)\n",
    "\n",
    "# Print the accuracy score\n",
    "print(\"Accuracy:\", accuracy)\n"
   ]
  },
  {
   "cell_type": "markdown",
   "id": "bf0b78d7-33b3-4548-853a-bb90d9b884b3",
   "metadata": {},
   "source": [
    "# SVM"
   ]
  },
  {
   "cell_type": "code",
   "execution_count": 29,
   "id": "94b61ad8-d91c-4483-8dea-a7f306a38859",
   "metadata": {},
   "outputs": [
    {
     "name": "stdout",
     "output_type": "stream",
     "text": [
      "Confusion Matrix:\n",
      "[[   0 1357]\n",
      " [   0 1943]]\n",
      "-----------------------------------------------\n",
      "Accuracy:\n",
      "0.5887878787878787\n",
      "-----------------------------------------------\n",
      "Classification Report:\n",
      "              precision    recall  f1-score   support\n",
      "\n",
      "           0       1.00      0.00      0.00      1357\n",
      "           1       0.59      1.00      0.74      1943\n",
      "\n",
      "    accuracy                           0.59      3300\n",
      "   macro avg       0.79      0.50      0.37      3300\n",
      "weighted avg       0.76      0.59      0.44      3300\n",
      "\n"
     ]
    }
   ],
   "source": [
    "from sklearn.svm import SVC\n",
    "from sklearn.metrics import classification_report, accuracy_score, confusion_matrix\n",
    "\n",
    "# Train the model\n",
    "svc = SVC()\n",
    "svc.fit(X_train_scale, y_train)\n",
    "\n",
    "# Prediction on test data \n",
    "y_pred = svc.predict(X_test_scale)\n",
    "\n",
    "# Evaluation \n",
    "print(\"Confusion Matrix:\")\n",
    "print(confusion_matrix(y_test, y_pred))\n",
    "print(\"-----------------------------------------------\")\n",
    "print(\"Accuracy:\")\n",
    "print(accuracy_score(y_test, y_pred))\n",
    "print(\"-----------------------------------------------\")\n",
    "print(\"Classification Report:\")\n",
    "print(classification_report(y_test, y_pred, zero_division=1))  # Handling zero division warning\n"
   ]
  },
  {
   "cell_type": "code",
   "execution_count": 29,
   "id": "23a8b575-0c1c-46a5-9be2-d53d69d070fa",
   "metadata": {},
   "outputs": [
    {
     "name": "stdout",
     "output_type": "stream",
     "text": [
      "XGboost accuracy : 67.14%\n"
     ]
    }
   ],
   "source": [
    "import xgboost\n",
    "xg = xgboost.XGBClassifier()\n",
    "xg.fit(X_train,y_train)\n",
    "print(\"XGboost accuracy : {:.2f}%\".format(xg.score(X_test,y_test)*100))"
   ]
  },
  {
   "cell_type": "code",
   "execution_count": 32,
   "id": "e21996a2-1d12-4281-9bfd-eaa0609320b3",
   "metadata": {},
   "outputs": [
    {
     "name": "stdout",
     "output_type": "stream",
     "text": [
      "Random Forest Classifier accuracy : 67.73%\n"
     ]
    }
   ],
   "source": [
    "from sklearn.ensemble import RandomForestClassifier\n",
    "rf = RandomForestClassifier(n_estimators=1000,random_state=1)\n",
    "rf.fit(X_train,y_train)\n",
    "print(\"Random Forest Classifier accuracy : {:.2f}%\".format(rf.score(X_test,y_test)*100))"
   ]
  },
  {
   "cell_type": "code",
   "execution_count": null,
   "id": "ce03173c-9eda-45da-88db-6b97ba9bd9df",
   "metadata": {},
   "outputs": [],
   "source": []
  }
 ],
 "metadata": {
  "kernelspec": {
   "display_name": "Python 3 (ipykernel)",
   "language": "python",
   "name": "python3"
  },
  "language_info": {
   "codemirror_mode": {
    "name": "ipython",
    "version": 3
   },
   "file_extension": ".py",
   "mimetype": "text/x-python",
   "name": "python",
   "nbconvert_exporter": "python",
   "pygments_lexer": "ipython3",
   "version": "3.11.5"
  }
 },
 "nbformat": 4,
 "nbformat_minor": 5
}
