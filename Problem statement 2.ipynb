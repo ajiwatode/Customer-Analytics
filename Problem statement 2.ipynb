{
 "cells": [
  {
   "cell_type": "markdown",
   "id": "5d93c896-125f-4259-a88e-7849e480e37f",
   "metadata": {},
   "source": [
    "## Problem statement 2"
   ]
  },
  {
   "cell_type": "code",
   "execution_count": 1,
   "id": "e788b2c5-25b2-4a52-ab1d-ff26c09520bc",
   "metadata": {},
   "outputs": [],
   "source": [
    "import numpy as np\n",
    "import pandas as pd\n",
    "import matplotlib.pyplot as plt\n",
    "import seaborn as sns\n",
    "%matplotlib inline"
   ]
  },
  {
   "cell_type": "code",
   "execution_count": 2,
   "id": "9aad8e15-4489-48b6-868a-127527d87186",
   "metadata": {},
   "outputs": [
    {
     "data": {
      "text/html": [
       "<div>\n",
       "<style scoped>\n",
       "    .dataframe tbody tr th:only-of-type {\n",
       "        vertical-align: middle;\n",
       "    }\n",
       "\n",
       "    .dataframe tbody tr th {\n",
       "        vertical-align: top;\n",
       "    }\n",
       "\n",
       "    .dataframe thead th {\n",
       "        text-align: right;\n",
       "    }\n",
       "</style>\n",
       "<table border=\"1\" class=\"dataframe\">\n",
       "  <thead>\n",
       "    <tr style=\"text-align: right;\">\n",
       "      <th></th>\n",
       "      <th>ID</th>\n",
       "      <th>Warehouse_block</th>\n",
       "      <th>Mode_of_Shipment</th>\n",
       "      <th>Customer_care_calls</th>\n",
       "      <th>Customer_rating</th>\n",
       "      <th>Cost_of_the_Product</th>\n",
       "      <th>Prior_purchases</th>\n",
       "      <th>Product_importance</th>\n",
       "      <th>Gender</th>\n",
       "      <th>Discount_offered</th>\n",
       "      <th>Weight_in_gms</th>\n",
       "      <th>Reached.on.Time_Y.N</th>\n",
       "    </tr>\n",
       "  </thead>\n",
       "  <tbody>\n",
       "    <tr>\n",
       "      <th>0</th>\n",
       "      <td>1</td>\n",
       "      <td>D</td>\n",
       "      <td>Flight</td>\n",
       "      <td>4</td>\n",
       "      <td>2</td>\n",
       "      <td>177</td>\n",
       "      <td>3</td>\n",
       "      <td>low</td>\n",
       "      <td>F</td>\n",
       "      <td>44</td>\n",
       "      <td>1233</td>\n",
       "      <td>1</td>\n",
       "    </tr>\n",
       "    <tr>\n",
       "      <th>1</th>\n",
       "      <td>2</td>\n",
       "      <td>F</td>\n",
       "      <td>Flight</td>\n",
       "      <td>4</td>\n",
       "      <td>5</td>\n",
       "      <td>216</td>\n",
       "      <td>2</td>\n",
       "      <td>low</td>\n",
       "      <td>M</td>\n",
       "      <td>59</td>\n",
       "      <td>3088</td>\n",
       "      <td>1</td>\n",
       "    </tr>\n",
       "    <tr>\n",
       "      <th>2</th>\n",
       "      <td>3</td>\n",
       "      <td>A</td>\n",
       "      <td>Flight</td>\n",
       "      <td>2</td>\n",
       "      <td>2</td>\n",
       "      <td>183</td>\n",
       "      <td>4</td>\n",
       "      <td>low</td>\n",
       "      <td>M</td>\n",
       "      <td>48</td>\n",
       "      <td>3374</td>\n",
       "      <td>1</td>\n",
       "    </tr>\n",
       "    <tr>\n",
       "      <th>3</th>\n",
       "      <td>4</td>\n",
       "      <td>B</td>\n",
       "      <td>Flight</td>\n",
       "      <td>3</td>\n",
       "      <td>3</td>\n",
       "      <td>176</td>\n",
       "      <td>4</td>\n",
       "      <td>medium</td>\n",
       "      <td>M</td>\n",
       "      <td>10</td>\n",
       "      <td>1177</td>\n",
       "      <td>1</td>\n",
       "    </tr>\n",
       "    <tr>\n",
       "      <th>4</th>\n",
       "      <td>5</td>\n",
       "      <td>C</td>\n",
       "      <td>Flight</td>\n",
       "      <td>2</td>\n",
       "      <td>2</td>\n",
       "      <td>184</td>\n",
       "      <td>3</td>\n",
       "      <td>medium</td>\n",
       "      <td>F</td>\n",
       "      <td>46</td>\n",
       "      <td>2484</td>\n",
       "      <td>1</td>\n",
       "    </tr>\n",
       "  </tbody>\n",
       "</table>\n",
       "</div>"
      ],
      "text/plain": [
       "   ID Warehouse_block Mode_of_Shipment  Customer_care_calls  Customer_rating  \\\n",
       "0   1               D           Flight                    4                2   \n",
       "1   2               F           Flight                    4                5   \n",
       "2   3               A           Flight                    2                2   \n",
       "3   4               B           Flight                    3                3   \n",
       "4   5               C           Flight                    2                2   \n",
       "\n",
       "   Cost_of_the_Product  Prior_purchases Product_importance Gender  \\\n",
       "0                  177                3                low      F   \n",
       "1                  216                2                low      M   \n",
       "2                  183                4                low      M   \n",
       "3                  176                4             medium      M   \n",
       "4                  184                3             medium      F   \n",
       "\n",
       "   Discount_offered  Weight_in_gms  Reached.on.Time_Y.N  \n",
       "0                44           1233                    1  \n",
       "1                59           3088                    1  \n",
       "2                48           3374                    1  \n",
       "3                10           1177                    1  \n",
       "4                46           2484                    1  "
      ]
     },
     "execution_count": 2,
     "metadata": {},
     "output_type": "execute_result"
    }
   ],
   "source": [
    "train=pd.read_csv(r\"C:\\Users\\AK\\Desktop\\file\\train data.csv\")\n",
    "train.head()"
   ]
  },
  {
   "cell_type": "code",
   "execution_count": 3,
   "id": "a73645f9-fa10-478b-8cd9-1ccc8058d5c8",
   "metadata": {},
   "outputs": [],
   "source": [
    "train.drop(train.columns[[0]], axis=1, inplace=True)"
   ]
  },
  {
   "cell_type": "code",
   "execution_count": 4,
   "id": "422a19f8-fac4-4d2a-a6de-69ae7433717e",
   "metadata": {},
   "outputs": [
    {
     "data": {
      "text/html": [
       "<div>\n",
       "<style scoped>\n",
       "    .dataframe tbody tr th:only-of-type {\n",
       "        vertical-align: middle;\n",
       "    }\n",
       "\n",
       "    .dataframe tbody tr th {\n",
       "        vertical-align: top;\n",
       "    }\n",
       "\n",
       "    .dataframe thead th {\n",
       "        text-align: right;\n",
       "    }\n",
       "</style>\n",
       "<table border=\"1\" class=\"dataframe\">\n",
       "  <thead>\n",
       "    <tr style=\"text-align: right;\">\n",
       "      <th></th>\n",
       "      <th>Warehouse_block</th>\n",
       "      <th>Mode_of_Shipment</th>\n",
       "      <th>Customer_care_calls</th>\n",
       "      <th>Customer_rating</th>\n",
       "      <th>Cost_of_the_Product</th>\n",
       "      <th>Prior_purchases</th>\n",
       "      <th>Product_importance</th>\n",
       "      <th>Gender</th>\n",
       "      <th>Discount_offered</th>\n",
       "      <th>Weight_in_gms</th>\n",
       "      <th>Reached.on.Time_Y.N</th>\n",
       "    </tr>\n",
       "  </thead>\n",
       "  <tbody>\n",
       "    <tr>\n",
       "      <th>0</th>\n",
       "      <td>D</td>\n",
       "      <td>Flight</td>\n",
       "      <td>4</td>\n",
       "      <td>2</td>\n",
       "      <td>177</td>\n",
       "      <td>3</td>\n",
       "      <td>low</td>\n",
       "      <td>F</td>\n",
       "      <td>44</td>\n",
       "      <td>1233</td>\n",
       "      <td>1</td>\n",
       "    </tr>\n",
       "    <tr>\n",
       "      <th>1</th>\n",
       "      <td>F</td>\n",
       "      <td>Flight</td>\n",
       "      <td>4</td>\n",
       "      <td>5</td>\n",
       "      <td>216</td>\n",
       "      <td>2</td>\n",
       "      <td>low</td>\n",
       "      <td>M</td>\n",
       "      <td>59</td>\n",
       "      <td>3088</td>\n",
       "      <td>1</td>\n",
       "    </tr>\n",
       "    <tr>\n",
       "      <th>2</th>\n",
       "      <td>A</td>\n",
       "      <td>Flight</td>\n",
       "      <td>2</td>\n",
       "      <td>2</td>\n",
       "      <td>183</td>\n",
       "      <td>4</td>\n",
       "      <td>low</td>\n",
       "      <td>M</td>\n",
       "      <td>48</td>\n",
       "      <td>3374</td>\n",
       "      <td>1</td>\n",
       "    </tr>\n",
       "    <tr>\n",
       "      <th>3</th>\n",
       "      <td>B</td>\n",
       "      <td>Flight</td>\n",
       "      <td>3</td>\n",
       "      <td>3</td>\n",
       "      <td>176</td>\n",
       "      <td>4</td>\n",
       "      <td>medium</td>\n",
       "      <td>M</td>\n",
       "      <td>10</td>\n",
       "      <td>1177</td>\n",
       "      <td>1</td>\n",
       "    </tr>\n",
       "    <tr>\n",
       "      <th>4</th>\n",
       "      <td>C</td>\n",
       "      <td>Flight</td>\n",
       "      <td>2</td>\n",
       "      <td>2</td>\n",
       "      <td>184</td>\n",
       "      <td>3</td>\n",
       "      <td>medium</td>\n",
       "      <td>F</td>\n",
       "      <td>46</td>\n",
       "      <td>2484</td>\n",
       "      <td>1</td>\n",
       "    </tr>\n",
       "  </tbody>\n",
       "</table>\n",
       "</div>"
      ],
      "text/plain": [
       "  Warehouse_block Mode_of_Shipment  Customer_care_calls  Customer_rating  \\\n",
       "0               D           Flight                    4                2   \n",
       "1               F           Flight                    4                5   \n",
       "2               A           Flight                    2                2   \n",
       "3               B           Flight                    3                3   \n",
       "4               C           Flight                    2                2   \n",
       "\n",
       "   Cost_of_the_Product  Prior_purchases Product_importance Gender  \\\n",
       "0                  177                3                low      F   \n",
       "1                  216                2                low      M   \n",
       "2                  183                4                low      M   \n",
       "3                  176                4             medium      M   \n",
       "4                  184                3             medium      F   \n",
       "\n",
       "   Discount_offered  Weight_in_gms  Reached.on.Time_Y.N  \n",
       "0                44           1233                    1  \n",
       "1                59           3088                    1  \n",
       "2                48           3374                    1  \n",
       "3                10           1177                    1  \n",
       "4                46           2484                    1  "
      ]
     },
     "execution_count": 4,
     "metadata": {},
     "output_type": "execute_result"
    }
   ],
   "source": [
    "train.head()"
   ]
  },
  {
   "cell_type": "code",
   "execution_count": 6,
   "id": "69f6171b-2783-4baa-81d9-240907dd6225",
   "metadata": {},
   "outputs": [
    {
     "data": {
      "text/html": [
       "<div>\n",
       "<style scoped>\n",
       "    .dataframe tbody tr th:only-of-type {\n",
       "        vertical-align: middle;\n",
       "    }\n",
       "\n",
       "    .dataframe tbody tr th {\n",
       "        vertical-align: top;\n",
       "    }\n",
       "\n",
       "    .dataframe thead th {\n",
       "        text-align: right;\n",
       "    }\n",
       "</style>\n",
       "<table border=\"1\" class=\"dataframe\">\n",
       "  <thead>\n",
       "    <tr style=\"text-align: right;\">\n",
       "      <th></th>\n",
       "      <th>Warehouse_block</th>\n",
       "      <th>Mode_of_Shipment</th>\n",
       "      <th>Customer_care_calls</th>\n",
       "      <th>Customer_rating</th>\n",
       "      <th>Cost_of_the_Product</th>\n",
       "      <th>Prior_purchases</th>\n",
       "      <th>Product_importance</th>\n",
       "      <th>Gender</th>\n",
       "      <th>Discount_offered</th>\n",
       "      <th>Weight_in_gms</th>\n",
       "      <th>Reached.on.Time_Y.N</th>\n",
       "      <th>customerscore</th>\n",
       "    </tr>\n",
       "  </thead>\n",
       "  <tbody>\n",
       "    <tr>\n",
       "      <th>0</th>\n",
       "      <td>D</td>\n",
       "      <td>Flight</td>\n",
       "      <td>4</td>\n",
       "      <td>2</td>\n",
       "      <td>177</td>\n",
       "      <td>3</td>\n",
       "      <td>low</td>\n",
       "      <td>F</td>\n",
       "      <td>44</td>\n",
       "      <td>1233</td>\n",
       "      <td>1</td>\n",
       "      <td>NaN</td>\n",
       "    </tr>\n",
       "    <tr>\n",
       "      <th>1</th>\n",
       "      <td>F</td>\n",
       "      <td>Flight</td>\n",
       "      <td>4</td>\n",
       "      <td>5</td>\n",
       "      <td>216</td>\n",
       "      <td>2</td>\n",
       "      <td>low</td>\n",
       "      <td>M</td>\n",
       "      <td>59</td>\n",
       "      <td>3088</td>\n",
       "      <td>1</td>\n",
       "      <td>NaN</td>\n",
       "    </tr>\n",
       "    <tr>\n",
       "      <th>2</th>\n",
       "      <td>A</td>\n",
       "      <td>Flight</td>\n",
       "      <td>2</td>\n",
       "      <td>2</td>\n",
       "      <td>183</td>\n",
       "      <td>4</td>\n",
       "      <td>low</td>\n",
       "      <td>M</td>\n",
       "      <td>48</td>\n",
       "      <td>3374</td>\n",
       "      <td>1</td>\n",
       "      <td>NaN</td>\n",
       "    </tr>\n",
       "    <tr>\n",
       "      <th>3</th>\n",
       "      <td>B</td>\n",
       "      <td>Flight</td>\n",
       "      <td>3</td>\n",
       "      <td>3</td>\n",
       "      <td>176</td>\n",
       "      <td>4</td>\n",
       "      <td>medium</td>\n",
       "      <td>M</td>\n",
       "      <td>10</td>\n",
       "      <td>1177</td>\n",
       "      <td>1</td>\n",
       "      <td>NaN</td>\n",
       "    </tr>\n",
       "    <tr>\n",
       "      <th>4</th>\n",
       "      <td>C</td>\n",
       "      <td>Flight</td>\n",
       "      <td>2</td>\n",
       "      <td>2</td>\n",
       "      <td>184</td>\n",
       "      <td>3</td>\n",
       "      <td>medium</td>\n",
       "      <td>F</td>\n",
       "      <td>46</td>\n",
       "      <td>2484</td>\n",
       "      <td>1</td>\n",
       "      <td>NaN</td>\n",
       "    </tr>\n",
       "  </tbody>\n",
       "</table>\n",
       "</div>"
      ],
      "text/plain": [
       "  Warehouse_block Mode_of_Shipment  Customer_care_calls  Customer_rating  \\\n",
       "0               D           Flight                    4                2   \n",
       "1               F           Flight                    4                5   \n",
       "2               A           Flight                    2                2   \n",
       "3               B           Flight                    3                3   \n",
       "4               C           Flight                    2                2   \n",
       "\n",
       "   Cost_of_the_Product  Prior_purchases Product_importance Gender  \\\n",
       "0                  177                3                low      F   \n",
       "1                  216                2                low      M   \n",
       "2                  183                4                low      M   \n",
       "3                  176                4             medium      M   \n",
       "4                  184                3             medium      F   \n",
       "\n",
       "   Discount_offered  Weight_in_gms  Reached.on.Time_Y.N  customerscore  \n",
       "0                44           1233                    1            NaN  \n",
       "1                59           3088                    1            NaN  \n",
       "2                48           3374                    1            NaN  \n",
       "3                10           1177                    1            NaN  \n",
       "4                46           2484                    1            NaN  "
      ]
     },
     "execution_count": 6,
     "metadata": {},
     "output_type": "execute_result"
    }
   ],
   "source": [
    "train[\"customerscore\"]=np.nan\n",
    "train.head()"
   ]
  },
  {
   "cell_type": "code",
   "execution_count": 8,
   "id": "35a5f519-0b66-419e-9c5e-e3274c5ad40c",
   "metadata": {},
   "outputs": [],
   "source": [
    "good_rating= train.query('Customer_rating>=3')"
   ]
  },
  {
   "cell_type": "code",
   "execution_count": 9,
   "id": "1c4c7720-0982-474f-a5ca-3abe3a711aa0",
   "metadata": {},
   "outputs": [
    {
     "name": "stdout",
     "output_type": "stream",
     "text": [
      "      Warehouse_block Mode_of_Shipment  Customer_care_calls  Customer_rating  \\\n",
      "1                   F           Flight                    4                5   \n",
      "3                   B           Flight                    3                3   \n",
      "6                   D           Flight                    3                4   \n",
      "8                   A           Flight                    3                4   \n",
      "10                  C           Flight                    3                4   \n",
      "...               ...              ...                  ...              ...   \n",
      "10987               F             Ship                    5                3   \n",
      "10988               A             Ship                    4                3   \n",
      "10990               C             Ship                    5                4   \n",
      "10996               C             Ship                    5                4   \n",
      "10998               D             Ship                    2                5   \n",
      "\n",
      "       Cost_of_the_Product  Prior_purchases Product_importance Gender  \\\n",
      "1                      216                2                low      M   \n",
      "3                      176                4             medium      M   \n",
      "6                      250                3                low      F   \n",
      "8                      150                3                low      F   \n",
      "10                     189                2             medium      M   \n",
      "...                    ...              ...                ...    ...   \n",
      "10987                  242                5                low      F   \n",
      "10988                  192                4                low      F   \n",
      "10990                  219                6                low      M   \n",
      "10996                  242                5                low      F   \n",
      "10998                  155                5                low      F   \n",
      "\n",
      "       Discount_offered  Weight_in_gms  Reached.on.Time_Y.N  customerscore  \n",
      "1                    59           3088                    1            NaN  \n",
      "3                    10           1177                    1            NaN  \n",
      "6                     3           2371                    1            NaN  \n",
      "8                    11           1861                    1            NaN  \n",
      "10                   12           2888                    1            NaN  \n",
      "...                 ...            ...                  ...            ...  \n",
      "10987                10           1846                    1            NaN  \n",
      "10988                 2           1830                    0            NaN  \n",
      "10990                 3           1098                    0            NaN  \n",
      "10996                 4           1155                    0            NaN  \n",
      "10998                 6           1639                    0            NaN  \n",
      "\n",
      "[6599 rows x 12 columns]\n"
     ]
    }
   ],
   "source": [
    "print(good_rating)"
   ]
  },
  {
   "cell_type": "code",
   "execution_count": 17,
   "id": "f663cb38-9bd8-4a6a-86ed-243fa0e3ca74",
   "metadata": {},
   "outputs": [
    {
     "data": {
      "text/plain": [
       "Reached.on.Time_Y.N\n",
       "1    59.669061\n",
       "0    40.330939\n",
       "Name: proportion, dtype: float64"
      ]
     },
     "execution_count": 17,
     "metadata": {},
     "output_type": "execute_result"
    }
   ],
   "source": [
    "train['Reached.on.Time_Y.N'].value_counts(normalize=True) * 100"
   ]
  },
  {
   "cell_type": "code",
   "execution_count": 18,
   "id": "90a2fc52-625f-47ef-85e6-a590a98d92c6",
   "metadata": {},
   "outputs": [
    {
     "name": "stdout",
     "output_type": "stream",
     "text": [
      "Reached.on.Time_Y.N\n",
      "1    3977\n",
      "0    2622\n",
      "Name: count, dtype: int64\n"
     ]
    },
    {
     "data": {
      "text/plain": [
       "Reached.on.Time_Y.N\n",
       "1    60.266707\n",
       "0    39.733293\n",
       "Name: proportion, dtype: float64"
      ]
     },
     "execution_count": 18,
     "metadata": {},
     "output_type": "execute_result"
    },
    {
     "data": {
      "image/png": "[encoded data removed]",
      "text/plain": [
       "<Figure size 640x480 with 1 Axes>"
      ]
     },
     "metadata": {},
     "output_type": "display_data"
    }
   ],
   "source": [
    "import seaborn as sns\n",
    "ax =sns.countplot(x=\"Reached.on.Time_Y.N\",data=good_rating, palette=\"Set3\",hue=\"Reached.on.Time_Y.N\")\n",
    "plt.ylabel(\"No. of customers\")\n",
    "plt.title(\"About 39.7% of the customer received their shipment on-time\")\n",
    "#plt.title(\"Identified the customer who rated 3\")\n",
    "ax.text(-0.4, 4600, 'Identified the customer who rated 3 and greater',fontsize=12,color='red')\n",
    "\n",
    "count=good_rating['Reached.on.Time_Y.N'].value_counts()\n",
    "print(count)\n",
    "#ax.text(0, 4600, count,fontsize=12,horizontalalignment='center')\n",
    "good_rating['Reached.on.Time_Y.N'].value_counts(normalize=True)*100"
   ]
  },
  {
   "cell_type": "code",
   "execution_count": 19,
   "id": "2d7f2a2e-7219-471d-b9cb-bcff12aa5d97",
   "metadata": {},
   "outputs": [
    {
     "name": "stdout",
     "output_type": "stream",
     "text": [
      "2311955\n"
     ]
    }
   ],
   "source": [
    "totalcost = train['Cost_of_the_Product'].sum()\n",
    "print (totalcost)"
   ]
  },
  {
   "cell_type": "code",
   "execution_count": 21,
   "id": "f0ab8100-23b2-41f2-b3a6-982cd2e80df2",
   "metadata": {},
   "outputs": [
    {
     "name": "stdout",
     "output_type": "stream",
     "text": [
      "10999\n"
     ]
    }
   ],
   "source": [
    "countorder=train['Cost_of_the_Product'].count()\n",
    "print(countorder)"
   ]
  },
  {
   "cell_type": "code",
   "execution_count": 22,
   "id": "3e5ec258-4b7c-4972-ab01-5d9191e7a254",
   "metadata": {},
   "outputs": [
    {
     "name": "stdout",
     "output_type": "stream",
     "text": [
      "210.19683607600692\n"
     ]
    }
   ],
   "source": [
    "avg=totalcost/countorder\n",
    "print(avg)\n"
   ]
  },
  {
   "cell_type": "code",
   "execution_count": 24,
   "id": "4c46fad7-925a-4de3-8269-6185115f1cbf",
   "metadata": {},
   "outputs": [
    {
     "data": {
      "text/html": [
       "<div>\n",
       "<style scoped>\n",
       "    .dataframe tbody tr th:only-of-type {\n",
       "        vertical-align: middle;\n",
       "    }\n",
       "\n",
       "    .dataframe tbody tr th {\n",
       "        vertical-align: top;\n",
       "    }\n",
       "\n",
       "    .dataframe thead th {\n",
       "        text-align: right;\n",
       "    }\n",
       "</style>\n",
       "<table border=\"1\" class=\"dataframe\">\n",
       "  <thead>\n",
       "    <tr style=\"text-align: right;\">\n",
       "      <th></th>\n",
       "      <th>Warehouse_block</th>\n",
       "      <th>Mode_of_Shipment</th>\n",
       "      <th>Customer_care_calls</th>\n",
       "      <th>Customer_rating</th>\n",
       "      <th>Cost_of_the_Product</th>\n",
       "      <th>Prior_purchases</th>\n",
       "      <th>Product_importance</th>\n",
       "      <th>Gender</th>\n",
       "      <th>Discount_offered</th>\n",
       "      <th>Weight_in_gms</th>\n",
       "      <th>Reached.on.Time_Y.N</th>\n",
       "      <th>customerscore</th>\n",
       "    </tr>\n",
       "  </thead>\n",
       "  <tbody>\n",
       "    <tr>\n",
       "      <th>0</th>\n",
       "      <td>D</td>\n",
       "      <td>Flight</td>\n",
       "      <td>4</td>\n",
       "      <td>2</td>\n",
       "      <td>177</td>\n",
       "      <td>3</td>\n",
       "      <td>low</td>\n",
       "      <td>F</td>\n",
       "      <td>44</td>\n",
       "      <td>1233</td>\n",
       "      <td>1</td>\n",
       "      <td>630.590508</td>\n",
       "    </tr>\n",
       "    <tr>\n",
       "      <th>1</th>\n",
       "      <td>F</td>\n",
       "      <td>Flight</td>\n",
       "      <td>4</td>\n",
       "      <td>5</td>\n",
       "      <td>216</td>\n",
       "      <td>2</td>\n",
       "      <td>low</td>\n",
       "      <td>M</td>\n",
       "      <td>59</td>\n",
       "      <td>3088</td>\n",
       "      <td>1</td>\n",
       "      <td>420.393672</td>\n",
       "    </tr>\n",
       "    <tr>\n",
       "      <th>2</th>\n",
       "      <td>A</td>\n",
       "      <td>Flight</td>\n",
       "      <td>2</td>\n",
       "      <td>2</td>\n",
       "      <td>183</td>\n",
       "      <td>4</td>\n",
       "      <td>low</td>\n",
       "      <td>M</td>\n",
       "      <td>48</td>\n",
       "      <td>3374</td>\n",
       "      <td>1</td>\n",
       "      <td>840.787344</td>\n",
       "    </tr>\n",
       "    <tr>\n",
       "      <th>3</th>\n",
       "      <td>B</td>\n",
       "      <td>Flight</td>\n",
       "      <td>3</td>\n",
       "      <td>3</td>\n",
       "      <td>176</td>\n",
       "      <td>4</td>\n",
       "      <td>medium</td>\n",
       "      <td>M</td>\n",
       "      <td>10</td>\n",
       "      <td>1177</td>\n",
       "      <td>1</td>\n",
       "      <td>840.787344</td>\n",
       "    </tr>\n",
       "    <tr>\n",
       "      <th>4</th>\n",
       "      <td>C</td>\n",
       "      <td>Flight</td>\n",
       "      <td>2</td>\n",
       "      <td>2</td>\n",
       "      <td>184</td>\n",
       "      <td>3</td>\n",
       "      <td>medium</td>\n",
       "      <td>F</td>\n",
       "      <td>46</td>\n",
       "      <td>2484</td>\n",
       "      <td>1</td>\n",
       "      <td>630.590508</td>\n",
       "    </tr>\n",
       "  </tbody>\n",
       "</table>\n",
       "</div>"
      ],
      "text/plain": [
       "  Warehouse_block Mode_of_Shipment  Customer_care_calls  Customer_rating  \\\n",
       "0               D           Flight                    4                2   \n",
       "1               F           Flight                    4                5   \n",
       "2               A           Flight                    2                2   \n",
       "3               B           Flight                    3                3   \n",
       "4               C           Flight                    2                2   \n",
       "\n",
       "   Cost_of_the_Product  Prior_purchases Product_importance Gender  \\\n",
       "0                  177                3                low      F   \n",
       "1                  216                2                low      M   \n",
       "2                  183                4                low      M   \n",
       "3                  176                4             medium      M   \n",
       "4                  184                3             medium      F   \n",
       "\n",
       "   Discount_offered  Weight_in_gms  Reached.on.Time_Y.N  customerscore  \n",
       "0                44           1233                    1     630.590508  \n",
       "1                59           3088                    1     420.393672  \n",
       "2                48           3374                    1     840.787344  \n",
       "3                10           1177                    1     840.787344  \n",
       "4                46           2484                    1     630.590508  "
      ]
     },
     "execution_count": 24,
     "metadata": {},
     "output_type": "execute_result"
    }
   ],
   "source": [
    "a=[]\n",
    "for value in train['Prior_purchases']: \n",
    "    a.append(avg*value)\n",
    "train['customerscore']=a\n",
    "train.head()"
   ]
  },
  {
   "cell_type": "code",
   "execution_count": 26,
   "id": "92376ccb-0ae2-494d-b93d-c027da360af7",
   "metadata": {},
   "outputs": [
    {
     "data": {
      "text/plain": [
       "630.5905082280208"
      ]
     },
     "execution_count": 26,
     "metadata": {},
     "output_type": "execute_result"
    }
   ],
   "source": [
    "train['customerscore'].median()"
   ]
  },
  {
   "cell_type": "code",
   "execution_count": 27,
   "id": "b12d43de-41c9-43c2-ac46-7ca62831388c",
   "metadata": {},
   "outputs": [],
   "source": [
    "goodscore=train.query('customerscore>=630')"
   ]
  },
  {
   "cell_type": "code",
   "execution_count": 28,
   "id": "b12f5ac9-0464-414f-9827-dad54c379f9a",
   "metadata": {},
   "outputs": [
    {
     "name": "stdout",
     "output_type": "stream",
     "text": [
      "Reached.on.Time_Y.N\n",
      "1    4938\n",
      "0    3462\n",
      "Name: count, dtype: int64\n"
     ]
    },
    {
     "data": {
      "text/plain": [
       "Reached.on.Time_Y.N\n",
       "1    58.785714\n",
       "0    41.214286\n",
       "Name: proportion, dtype: float64"
      ]
     },
     "execution_count": 28,
     "metadata": {},
     "output_type": "execute_result"
    },
    {
     "data": {
      "image/png": "[encoded data removed]",
      "text/plain": [
       "<Figure size 640x480 with 1 Axes>"
      ]
     },
     "metadata": {},
     "output_type": "display_data"
    }
   ],
   "source": [
    "ax = sns.countplot(x=\"Reached.on.Time_Y.N\",data=goodscore, palette=\"Set3\",hue=\"Reached.on.Time_Y.N\")\n",
    "plt.ylabel(\"No. of customers\")\n",
    "plt.title(\"About 41.21% of the customer received their shipment on-time\")\n",
    "#plt.title(\"Identified the customer who rated 3\")\n",
    "ax.text(-1, 6000, 'Identified customer who has customer score greaterthan and equal to 630',fontsize=12,color='red')\n",
    "count1=goodscore['Reached.on.Time_Y.N'].value_counts()\n",
    "print(count1)\n",
    "goodscore['Reached.on.Time_Y.N'].value_counts(normalize=True)*100"
   ]
  },
  {
   "cell_type": "code",
   "execution_count": 29,
   "id": "24931268-a763-4e23-90cd-8332a23fc336",
   "metadata": {},
   "outputs": [
    {
     "data": {
      "text/html": [
       "<div>\n",
       "<style scoped>\n",
       "    .dataframe tbody tr th:only-of-type {\n",
       "        vertical-align: middle;\n",
       "    }\n",
       "\n",
       "    .dataframe tbody tr th {\n",
       "        vertical-align: top;\n",
       "    }\n",
       "\n",
       "    .dataframe thead th {\n",
       "        text-align: right;\n",
       "    }\n",
       "</style>\n",
       "<table border=\"1\" class=\"dataframe\">\n",
       "  <thead>\n",
       "    <tr style=\"text-align: right;\">\n",
       "      <th></th>\n",
       "      <th>Warehouse_block</th>\n",
       "      <th>Mode_of_Shipment</th>\n",
       "      <th>Customer_care_calls</th>\n",
       "      <th>Customer_rating</th>\n",
       "      <th>Cost_of_the_Product</th>\n",
       "      <th>Prior_purchases</th>\n",
       "      <th>Product_importance</th>\n",
       "      <th>Gender</th>\n",
       "      <th>Discount_offered</th>\n",
       "      <th>Weight_in_gms</th>\n",
       "      <th>Reached.on.Time_Y.N</th>\n",
       "      <th>customerscore</th>\n",
       "    </tr>\n",
       "  </thead>\n",
       "  <tbody>\n",
       "    <tr>\n",
       "      <th>37</th>\n",
       "      <td>F</td>\n",
       "      <td>Ship</td>\n",
       "      <td>2</td>\n",
       "      <td>4</td>\n",
       "      <td>181</td>\n",
       "      <td>6</td>\n",
       "      <td>medium</td>\n",
       "      <td>F</td>\n",
       "      <td>16</td>\n",
       "      <td>3605</td>\n",
       "      <td>1</td>\n",
       "      <td>1261.181016</td>\n",
       "    </tr>\n",
       "    <tr>\n",
       "      <th>62</th>\n",
       "      <td>A</td>\n",
       "      <td>Ship</td>\n",
       "      <td>5</td>\n",
       "      <td>1</td>\n",
       "      <td>105</td>\n",
       "      <td>6</td>\n",
       "      <td>medium</td>\n",
       "      <td>M</td>\n",
       "      <td>62</td>\n",
       "      <td>1292</td>\n",
       "      <td>1</td>\n",
       "      <td>1261.181016</td>\n",
       "    </tr>\n",
       "    <tr>\n",
       "      <th>74</th>\n",
       "      <td>A</td>\n",
       "      <td>Ship</td>\n",
       "      <td>6</td>\n",
       "      <td>1</td>\n",
       "      <td>238</td>\n",
       "      <td>6</td>\n",
       "      <td>low</td>\n",
       "      <td>F</td>\n",
       "      <td>13</td>\n",
       "      <td>2442</td>\n",
       "      <td>1</td>\n",
       "      <td>1261.181016</td>\n",
       "    </tr>\n",
       "    <tr>\n",
       "      <th>90</th>\n",
       "      <td>D</td>\n",
       "      <td>Ship</td>\n",
       "      <td>5</td>\n",
       "      <td>3</td>\n",
       "      <td>174</td>\n",
       "      <td>6</td>\n",
       "      <td>high</td>\n",
       "      <td>F</td>\n",
       "      <td>41</td>\n",
       "      <td>1085</td>\n",
       "      <td>1</td>\n",
       "      <td>1261.181016</td>\n",
       "    </tr>\n",
       "    <tr>\n",
       "      <th>133</th>\n",
       "      <td>F</td>\n",
       "      <td>Flight</td>\n",
       "      <td>5</td>\n",
       "      <td>4</td>\n",
       "      <td>280</td>\n",
       "      <td>6</td>\n",
       "      <td>medium</td>\n",
       "      <td>F</td>\n",
       "      <td>51</td>\n",
       "      <td>3582</td>\n",
       "      <td>1</td>\n",
       "      <td>1261.181016</td>\n",
       "    </tr>\n",
       "    <tr>\n",
       "      <th>...</th>\n",
       "      <td>...</td>\n",
       "      <td>...</td>\n",
       "      <td>...</td>\n",
       "      <td>...</td>\n",
       "      <td>...</td>\n",
       "      <td>...</td>\n",
       "      <td>...</td>\n",
       "      <td>...</td>\n",
       "      <td>...</td>\n",
       "      <td>...</td>\n",
       "      <td>...</td>\n",
       "      <td>...</td>\n",
       "    </tr>\n",
       "    <tr>\n",
       "      <th>10981</th>\n",
       "      <td>F</td>\n",
       "      <td>Ship</td>\n",
       "      <td>5</td>\n",
       "      <td>2</td>\n",
       "      <td>251</td>\n",
       "      <td>6</td>\n",
       "      <td>low</td>\n",
       "      <td>M</td>\n",
       "      <td>10</td>\n",
       "      <td>1196</td>\n",
       "      <td>0</td>\n",
       "      <td>1261.181016</td>\n",
       "    </tr>\n",
       "    <tr>\n",
       "      <th>10983</th>\n",
       "      <td>B</td>\n",
       "      <td>Ship</td>\n",
       "      <td>4</td>\n",
       "      <td>3</td>\n",
       "      <td>229</td>\n",
       "      <td>6</td>\n",
       "      <td>medium</td>\n",
       "      <td>M</td>\n",
       "      <td>1</td>\n",
       "      <td>1235</td>\n",
       "      <td>1</td>\n",
       "      <td>1261.181016</td>\n",
       "    </tr>\n",
       "    <tr>\n",
       "      <th>10990</th>\n",
       "      <td>C</td>\n",
       "      <td>Ship</td>\n",
       "      <td>5</td>\n",
       "      <td>4</td>\n",
       "      <td>219</td>\n",
       "      <td>6</td>\n",
       "      <td>low</td>\n",
       "      <td>M</td>\n",
       "      <td>3</td>\n",
       "      <td>1098</td>\n",
       "      <td>0</td>\n",
       "      <td>1261.181016</td>\n",
       "    </tr>\n",
       "    <tr>\n",
       "      <th>10993</th>\n",
       "      <td>F</td>\n",
       "      <td>Ship</td>\n",
       "      <td>5</td>\n",
       "      <td>1</td>\n",
       "      <td>257</td>\n",
       "      <td>6</td>\n",
       "      <td>low</td>\n",
       "      <td>F</td>\n",
       "      <td>1</td>\n",
       "      <td>1150</td>\n",
       "      <td>0</td>\n",
       "      <td>1261.181016</td>\n",
       "    </tr>\n",
       "    <tr>\n",
       "      <th>10997</th>\n",
       "      <td>F</td>\n",
       "      <td>Ship</td>\n",
       "      <td>5</td>\n",
       "      <td>2</td>\n",
       "      <td>223</td>\n",
       "      <td>6</td>\n",
       "      <td>medium</td>\n",
       "      <td>M</td>\n",
       "      <td>2</td>\n",
       "      <td>1210</td>\n",
       "      <td>0</td>\n",
       "      <td>1261.181016</td>\n",
       "    </tr>\n",
       "  </tbody>\n",
       "</table>\n",
       "<p>1003 rows × 12 columns</p>\n",
       "</div>"
      ],
      "text/plain": [
       "      Warehouse_block Mode_of_Shipment  Customer_care_calls  Customer_rating  \\\n",
       "37                  F             Ship                    2                4   \n",
       "62                  A             Ship                    5                1   \n",
       "74                  A             Ship                    6                1   \n",
       "90                  D             Ship                    5                3   \n",
       "133                 F           Flight                    5                4   \n",
       "...               ...              ...                  ...              ...   \n",
       "10981               F             Ship                    5                2   \n",
       "10983               B             Ship                    4                3   \n",
       "10990               C             Ship                    5                4   \n",
       "10993               F             Ship                    5                1   \n",
       "10997               F             Ship                    5                2   \n",
       "\n",
       "       Cost_of_the_Product  Prior_purchases Product_importance Gender  \\\n",
       "37                     181                6             medium      F   \n",
       "62                     105                6             medium      M   \n",
       "74                     238                6                low      F   \n",
       "90                     174                6               high      F   \n",
       "133                    280                6             medium      F   \n",
       "...                    ...              ...                ...    ...   \n",
       "10981                  251                6                low      M   \n",
       "10983                  229                6             medium      M   \n",
       "10990                  219                6                low      M   \n",
       "10993                  257                6                low      F   \n",
       "10997                  223                6             medium      M   \n",
       "\n",
       "       Discount_offered  Weight_in_gms  Reached.on.Time_Y.N  customerscore  \n",
       "37                   16           3605                    1    1261.181016  \n",
       "62                   62           1292                    1    1261.181016  \n",
       "74                   13           2442                    1    1261.181016  \n",
       "90                   41           1085                    1    1261.181016  \n",
       "133                  51           3582                    1    1261.181016  \n",
       "...                 ...            ...                  ...            ...  \n",
       "10981                10           1196                    0    1261.181016  \n",
       "10983                 1           1235                    1    1261.181016  \n",
       "10990                 3           1098                    0    1261.181016  \n",
       "10993                 1           1150                    0    1261.181016  \n",
       "10997                 2           1210                    0    1261.181016  \n",
       "\n",
       "[1003 rows x 12 columns]"
      ]
     },
     "execution_count": 29,
     "metadata": {},
     "output_type": "execute_result"
    }
   ],
   "source": [
    "recurringorder=train.query('Prior_purchases>=6')\n",
    "recurringorder"
   ]
  },
  {
   "cell_type": "code",
   "execution_count": 30,
   "id": "5cdb54b6-3b83-4047-a658-e41a99351a34",
   "metadata": {},
   "outputs": [
    {
     "name": "stdout",
     "output_type": "stream",
     "text": [
      "Reached.on.Time_Y.N\n",
      "1    591\n",
      "0    412\n",
      "Name: count, dtype: int64\n"
     ]
    },
    {
     "data": {
      "text/plain": [
       "Reached.on.Time_Y.N\n",
       "1    58.92323\n",
       "0    41.07677\n",
       "Name: proportion, dtype: float64"
      ]
     },
     "execution_count": 30,
     "metadata": {},
     "output_type": "execute_result"
    },
    {
     "data": {
      "image/png": "[encoded data removed]",
      "text/plain": [
       "<Figure size 640x480 with 1 Axes>"
      ]
     },
     "metadata": {},
     "output_type": "display_data"
    }
   ],
   "source": [
    "ax = sns.countplot(x=\"Reached.on.Time_Y.N\",data=recurringorder, palette=\"Set3\",hue=\"Reached.on.Time_Y.N\")\n",
    "plt.ylabel(\"No. of customers\")\n",
    "plt.title(\"About 41.07% of the customer received their shipment on-time\")\n",
    "#plt.title(\"Identified the customer who rated 3\")\n",
    "ax.text(-0.5, 700, 'Identified customer who made prior purchase 6 and greater',fontsize=12,color='red')\n",
    "count2=recurringorder['Reached.on.Time_Y.N'].value_counts()\n",
    "print(count2)\n",
    "recurringorder['Reached.on.Time_Y.N'].value_counts(normalize=True)*100"
   ]
  },
  {
   "cell_type": "code",
   "execution_count": 31,
   "id": "545b8ac8-8608-4d66-a4b1-76953a94fa25",
   "metadata": {},
   "outputs": [
    {
     "data": {
      "text/plain": [
       "310"
      ]
     },
     "execution_count": 31,
     "metadata": {},
     "output_type": "execute_result"
    }
   ],
   "source": [
    "train[\"Cost_of_the_Product\"].max()"
   ]
  },
  {
   "cell_type": "code",
   "execution_count": 32,
   "id": "c4076c40-38a8-4c5e-bb68-6dabe12cb97c",
   "metadata": {},
   "outputs": [
    {
     "data": {
      "text/plain": [
       "96"
      ]
     },
     "execution_count": 32,
     "metadata": {},
     "output_type": "execute_result"
    }
   ],
   "source": [
    "train[\"Cost_of_the_Product\"].min()"
   ]
  },
  {
   "cell_type": "code",
   "execution_count": 33,
   "id": "8c6c93d7-b6a7-47b4-98b7-9de2aaa174de",
   "metadata": {},
   "outputs": [],
   "source": [
    "medianvalue=train[\"Cost_of_the_Product\"].median()"
   ]
  },
  {
   "cell_type": "code",
   "execution_count": 34,
   "id": "03a71b86-95e6-498f-92cf-ce9fc098a747",
   "metadata": {},
   "outputs": [
    {
     "name": "stdout",
     "output_type": "stream",
     "text": [
      "214.0\n"
     ]
    }
   ],
   "source": [
    "print(medianvalue)"
   ]
  },
  {
   "cell_type": "code",
   "execution_count": 35,
   "id": "f183a85a-814c-4684-b39f-9521968c97fa",
   "metadata": {},
   "outputs": [],
   "source": [
    "higestpayment=train.query('Cost_of_the_Product>=214')"
   ]
  },
  {
   "cell_type": "code",
   "execution_count": 36,
   "id": "06463988-d467-4e3e-be29-90169fa9ae52",
   "metadata": {},
   "outputs": [
    {
     "name": "stdout",
     "output_type": "stream",
     "text": [
      "Reached.on.Time_Y.N\n",
      "1    3136\n",
      "0    2408\n",
      "Name: count, dtype: int64\n"
     ]
    },
    {
     "data": {
      "text/plain": [
       "Reached.on.Time_Y.N\n",
       "1    56.565657\n",
       "0    43.434343\n",
       "Name: proportion, dtype: float64"
      ]
     },
     "execution_count": 36,
     "metadata": {},
     "output_type": "execute_result"
    },
    {
     "data": {
      "image/png": "[encoded data removed]",
      "text/plain": [
       "<Figure size 640x480 with 1 Axes>"
      ]
     },
     "metadata": {},
     "output_type": "display_data"
    }
   ],
   "source": [
    "ax = sns.countplot(x=\"Reached.on.Time_Y.N\",data=higestpayment, palette=\"Set3\",hue=\"Reached.on.Time_Y.N\")\n",
    "plt.ylabel(\"No. of customers\")\n",
    "plt.title(\"About 43.43% of the customer received their shipment on-time\")\n",
    "#plt.title(\"Identified the customer who rated 3\")\n",
    "ax.text(-0.6, 3600, 'Identified customer who made payment higher than $214',fontsize=13,color='red')\n",
    "count3=higestpayment['Reached.on.Time_Y.N'].value_counts()\n",
    "print(count3)\n",
    "higestpayment['Reached.on.Time_Y.N'].value_counts(normalize=True)*100"
   ]
  },
  {
   "cell_type": "code",
   "execution_count": 37,
   "id": "ec6c4e53-2fb6-4856-b3cf-ddc07f6a9a87",
   "metadata": {},
   "outputs": [],
   "source": [
    "mostvaluablecustomer=train[(train['Customer_rating'] >= 3)&(train['Prior_purchases']>=6)&(train['Cost_of_the_Product']>=214)&(train['customerscore']>=train['customerscore'].median())]"
   ]
  },
  {
   "cell_type": "code",
   "execution_count": 38,
   "id": "c25038ec-1a46-47ae-90cb-41d889ced490",
   "metadata": {},
   "outputs": [
    {
     "name": "stdout",
     "output_type": "stream",
     "text": [
      "Reached.on.Time_Y.N\n",
      "1    172\n",
      "0    156\n",
      "Name: count, dtype: int64\n"
     ]
    },
    {
     "data": {
      "text/plain": [
       "Reached.on.Time_Y.N\n",
       "1    52.439024\n",
       "0    47.560976\n",
       "Name: proportion, dtype: float64"
      ]
     },
     "execution_count": 38,
     "metadata": {},
     "output_type": "execute_result"
    },
    {
     "data": {
      "image/png": "[encoded data removed]",
      "text/plain": [
       "<Figure size 640x480 with 1 Axes>"
      ]
     },
     "metadata": {},
     "output_type": "display_data"
    }
   ],
   "source": [
    "ax = sns.countplot(x=\"Reached.on.Time_Y.N\",data=mostvaluablecustomer, palette=\"Set3\",hue=\"Reached.on.Time_Y.N\")\n",
    "plt.ylabel(\"No. of customers\")\n",
    "plt.title(\"About 47.56% of the customer received their shipment on-time\")\n",
    "#plt.title(\"Identified the customer who rated 3\")\n",
    "ax.text(-0.3, 200, 'Identified most valuable customer',fontsize=13,color='red')\n",
    "count4=mostvaluablecustomer['Reached.on.Time_Y.N'].value_counts()\n",
    "print(count4)\n",
    "mostvaluablecustomer['Reached.on.Time_Y.N'].value_counts(normalize=True)*100"
   ]
  },
  {
   "cell_type": "code",
   "execution_count": null,
   "id": "5fceecd9-1682-4ec3-b626-3078923e968b",
   "metadata": {},
   "outputs": [],
   "source": []
  }
 ],
 "metadata": {
  "kernelspec": {
   "display_name": "Python 3 (ipykernel)",
   "language": "python",
   "name": "python3"
  },
  "language_info": {
   "codemirror_mode": {
    "name": "ipython",
    "version": 3
   },
   "file_extension": ".py",
   "mimetype": "text/x-python",
   "name": "python",
   "nbconvert_exporter": "python",
   "pygments_lexer": "ipython3",
   "version": "3.11.5"
  }
 },
 "nbformat": 4,
 "nbformat_minor": 5
}
